{
 "cells": [
  {
   "cell_type": "code",
   "execution_count": null,
   "metadata": {},
   "outputs": [],
   "source": [
    "с"
   ]
  },
  {
   "cell_type": "code",
   "execution_count": null,
   "metadata": {},
   "outputs": [],
   "source": [
    "import csv\n",
    "\n",
    "class CSVLoader:\n",
    "    def __init__(self, filename):\n",
    "        self.filename = filename\n",
    "        self.data = []\n",
    "\n",
    "    def load_data(self):\n",
    "        with open(self.filename, 'r') as file:\n",
    "            csv_reader = csv.reader(file)\n",
    "            header = next(csv_reader)  \n",
    "            for row in csv_reader:\n",
    "                data_object = CSVDataRow(header, row)\n",
    "                self.data.append(data_object)\n",
    "\n",
    "class CSVDataRow:\n",
    "    def __init__(self, header, row_data):\n",
    "        self.data = dict(zip(header, row_data))\n",
    "\n",
    "    def __str__(self):\n",
    "        return str(self.data)\n",
    "\n",
    "class ObjectListIterator:\n",
    "    def __init__(self, object_list):\n",
    "        self.object_list = object_list\n",
    "        self.index = 0\n",
    "\n",
    "    def __iter__(self):\n",
    "        return self\n",
    "\n",
    "    def __next__(self):\n",
    "        if self.index < len(self.object_list):\n",
    "            result = self.object_list[self.index]\n",
    "            self.index += 1\n",
    "            return result\n",
    "        else:\n",
    "            raise StopIteration\n",
    "\n",
    "class CSVObjectList:\n",
    "    def __init__(self, csv_loader):\n",
    "        self.objects = []\n",
    "        csv_loader.load_data()\n",
    "        self.objects = csv_loader.data\n",
    "\n",
    "    def __iter__(self):\n",
    "        return ObjectListIterator(self.objects)\n",
    "\n",
    "\n",
    "csv_loader = CSVLoader('example.csv')\n",
    "csv_object_list = CSVObjectList(csv_loader)\n",
    "\n",
    "for data_object in csv_object_list:\n",
    "    print(data_object)\n",
    "\n"
   ]
  }
 ],
 "metadata": {
  "kernelspec": {
   "display_name": "Python 3",
   "language": "python",
   "name": "python3"
  },
  "language_info": {
   "codemirror_mode": {
    "name": "ipython",
    "version": 3
   },
   "file_extension": ".py",
   "mimetype": "text/x-python",
   "name": "python",
   "nbconvert_exporter": "python",
   "pygments_lexer": "ipython3",
   "version": "3.12.0"
  }
 },
 "nbformat": 4,
 "nbformat_minor": 2
}
