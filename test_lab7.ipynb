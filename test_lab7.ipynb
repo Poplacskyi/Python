{
 "cells": [
  {
   "cell_type": "code",
   "execution_count": null,
   "metadata": {},
   "outputs": [],
   "source": [
    "from lab7 import charivna_kulka, answers\n",
    "\n",
    "def test_correct_answer():\n",
    "  result = charivna_kulka(\"Today i will happy\")\n",
    "  expected_answers = [*answers]\n",
    "  assert result.split(\": \")[1] in expected_answers\n",
    "\n",
    "def test_empty_str():\n",
    "  result_empty = charivna_kulka(\"1231\")\n",
    "  assert isinstance(result_empty, str)\n",
    "\n",
    "def test_return_str():\n",
    "  result = charivna_kulka(\"Will the piano fall on me today?\")\n",
    "  assert isinstance(result, str)\n",
    "\n",
    "def test_wrong_type():\n",
    "  try:\n",
    "    charivna_kulka(\"1\")\n",
    "  except Exception as e:\n",
    "    raise TypeError(e)"
   ]
  }
 ],
 "metadata": {
  "kernelspec": {
   "display_name": "Python 3",
   "language": "python",
   "name": "python3"
  },
  "language_info": {
   "codemirror_mode": {
    "name": "ipython",
    "version": 3
   },
   "file_extension": ".py",
   "mimetype": "text/x-python",
   "name": "python",
   "nbconvert_exporter": "python",
   "pygments_lexer": "ipython3",
   "version": "3.12.0"
  }
 },
 "nbformat": 4,
 "nbformat_minor": 2
}
