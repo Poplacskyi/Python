{
 "cells": [
  {
   "cell_type": "code",
   "execution_count": null,
   "metadata": {},
   "outputs": [],
   "source": [
    "import random\n",
    "\n",
    "answers = [\"Yep\", \"Nope\", \"Maybe\"]\n",
    "\n",
    "def charivna_kulka(question):\n",
    "  if type(question) != str:\n",
    "    raise Exception('Enter another type of value')\n",
    "  \n",
    "  if len(question) == 0:\n",
    "    raise Exception('Question shouldn\\'t be empty value')\n",
    "  \n",
    "  return f'{question}: {random.choice(answers)}'\n",
    "\n",
    "def configure_magic_ball(new_answers: list):\n",
    "  for new_answer in new_answers:\n",
    "    position = random.randint(0, len(answers))\n",
    "    answers.insert(position, new_answer)\n",
    "\n",
    "configure_magic_ball([\"Of course\", \"To be or not to be\", \"I have no idea\"])\n",
    "print(charivna_kulka(\"will i pass the python exem?\"))"
   ]
  }
 ],
 "metadata": {
  "kernelspec": {
   "display_name": "Python 3",
   "language": "python",
   "name": "python3"
  },
  "language_info": {
   "codemirror_mode": {
    "name": "ipython",
    "version": 3
   },
   "file_extension": ".py",
   "mimetype": "text/x-python",
   "name": "python",
   "nbconvert_exporter": "python",
   "pygments_lexer": "ipython3",
   "version": "3.12.0"
  }
 },
 "nbformat": 4,
 "nbformat_minor": 2
}
