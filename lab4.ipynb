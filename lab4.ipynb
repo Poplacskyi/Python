{
 "cells": [
  {
   "cell_type": "code",
   "execution_count": null,
   "metadata": {},
   "outputs": [],
   "source": [
    "def add_event(year, event_description):\n",
    "        time_dict[year] = event_description\n",
    "\n",
    "\n",
    "def remove_event(year):\n",
    "        if year in time_dict:\n",
    "                del time_dict[year]\n",
    "        else:\n",
    "                print(f\"Подія у {year} році відсутня у словнику часу.\")\n",
    "\n",
    "events_list = [(1789, \"Початок Французької революції\"),\n",
    "        (1945, \"Завершення Другої світової війни\"),\n",
    "        (1963, \"Вбивство Джона Кеннеді\"),\n",
    "        (1989, \"Падіння Берлінської стіни\"),\n",
    "        (2001, \"Терористичні атаки 11 вересня у США\")]\n",
    "\n",
    "\n",
    "time_dict = dict(events_list)\n",
    "\n",
    "years_to_visit = {1789, 1945, 1963, 2022}\n",
    "\n",
    "for year in years_to_visit:\n",
    "        try:\n",
    "                event = time_dict[year]\n",
    "                print(f\"У {year} відбулася подія: {event}\")\n",
    "        except KeyError:\n",
    "                print(f\"Нажаль, немає інформації про подію у {year} році\")\n",
    "\n",
    "\n",
    "selection = input(\"Введіть номер операції:\\n \"\n",
    "                \"1. Додати подію у список\\n \"\n",
    "                \"2. Видалити подію зі списку\")\n",
    "match selection:\n",
    "        case \"1\":\n",
    "                year = int(input(\"Введіть рік: \"))\n",
    "                event_description = input(\"Введіть подію: \")\n",
    "                add_event(year, event_description)\n",
    "        case \"2\":\n",
    "                year_to_remove = int(input(\"Введіть рік для видалення: \"))\n",
    "                remove_event(year_to_remove)\n",
    "\n",
    "\n",
    "for year, event in time_dict.items():\n",
    "        print(f\"У {year} відбулася подія: {event}\")"
   ]
  }
 ],
 "metadata": {
  "kernelspec": {
   "display_name": "Python 3",
   "language": "python",
   "name": "python3"
  },
  "language_info": {
   "name": "python",
   "version": "3.12.0"
  }
 },
 "nbformat": 4,
 "nbformat_minor": 2
}
